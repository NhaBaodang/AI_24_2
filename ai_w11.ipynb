{
  "nbformat": 4,
  "nbformat_minor": 0,
  "metadata": {
    "colab": {
      "provenance": [],
      "authorship_tag": "ABX9TyOjIAbtdnV5SqIh1wlPjmSO",
      "include_colab_link": true
    },
    "kernelspec": {
      "name": "python3",
      "display_name": "Python 3"
    },
    "language_info": {
      "name": "python"
    },
    "accelerator": "GPU",
    "gpuClass": "standard"
  },
  "cells": [
    {
      "cell_type": "markdown",
      "metadata": {
        "id": "view-in-github",
        "colab_type": "text"
      },
      "source": [
        "<a href=\"https://colab.research.google.com/github/NhaBaodang/AI_24_2/blob/main/ai_w11.ipynb\" target=\"_parent\"><img src=\"https://colab.research.google.com/assets/colab-badge.svg\" alt=\"Open In Colab\"/></a>"
      ]
    },
    {
      "cell_type": "code",
      "execution_count": null,
      "metadata": {
        "colab": {
          "base_uri": "https://localhost:8080/"
        },
        "id": "-vCanMHtAfBp",
        "outputId": "f4a07bc6-f155-4a19-a967-623b44b56123"
      },
      "outputs": [
        {
          "output_type": "stream",
          "name": "stdout",
          "text": [
            "Downloading data from https://storage.googleapis.com/tensorflow/tf-keras-datasets/train-labels-idx1-ubyte.gz\n",
            "29515/29515 [==============================] - 0s 1us/step\n",
            "Downloading data from https://storage.googleapis.com/tensorflow/tf-keras-datasets/train-images-idx3-ubyte.gz\n",
            "26421880/26421880 [==============================] - 2s 0us/step\n",
            "Downloading data from https://storage.googleapis.com/tensorflow/tf-keras-datasets/t10k-labels-idx1-ubyte.gz\n",
            "5148/5148 [==============================] - 0s 0us/step\n",
            "Downloading data from https://storage.googleapis.com/tensorflow/tf-keras-datasets/t10k-images-idx3-ubyte.gz\n",
            "4422102/4422102 [==============================] - 1s 0us/step\n",
            "Model: \"sequential\"\n",
            "_________________________________________________________________\n",
            " Layer (type)                Output Shape              Param #   \n",
            "=================================================================\n",
            " conv2d (Conv2D)             (None, 28, 28, 32)        320       \n",
            "                                                                 \n",
            " leaky_re_lu (LeakyReLU)     (None, 28, 28, 32)        0         \n",
            "                                                                 \n",
            " max_pooling2d (MaxPooling2D  (None, 14, 14, 32)       0         \n",
            " )                                                               \n",
            "                                                                 \n",
            " conv2d_1 (Conv2D)           (None, 14, 14, 64)        18496     \n",
            "                                                                 \n",
            " leaky_re_lu_1 (LeakyReLU)   (None, 14, 14, 64)        0         \n",
            "                                                                 \n",
            " max_pooling2d_1 (MaxPooling  (None, 7, 7, 64)         0         \n",
            " 2D)                                                             \n",
            "                                                                 \n",
            " conv2d_2 (Conv2D)           (None, 7, 7, 128)         73856     \n",
            "                                                                 \n",
            " leaky_re_lu_2 (LeakyReLU)   (None, 7, 7, 128)         0         \n",
            "                                                                 \n",
            " max_pooling2d_2 (MaxPooling  (None, 4, 4, 128)        0         \n",
            " 2D)                                                             \n",
            "                                                                 \n",
            " flatten (Flatten)           (None, 2048)              0         \n",
            "                                                                 \n",
            " dense (Dense)               (None, 128)               262272    \n",
            "                                                                 \n",
            " leaky_re_lu_3 (LeakyReLU)   (None, 128)               0         \n",
            "                                                                 \n",
            " dense_1 (Dense)             (None, 10)                1290      \n",
            "                                                                 \n",
            "=================================================================\n",
            "Total params: 356,234\n",
            "Trainable params: 356,234\n",
            "Non-trainable params: 0\n",
            "_________________________________________________________________\n",
            "Epoch 1/20\n",
            "938/938 [==============================] - 15s 4ms/step - loss: 0.4435 - accuracy: 0.8382\n",
            "Epoch 2/20\n",
            "938/938 [==============================] - 4s 4ms/step - loss: 0.2786 - accuracy: 0.8979\n",
            "Epoch 3/20\n",
            "938/938 [==============================] - 5s 5ms/step - loss: 0.2300 - accuracy: 0.9166\n",
            "Epoch 4/20\n",
            "938/938 [==============================] - 4s 4ms/step - loss: 0.1999 - accuracy: 0.9266\n",
            "Epoch 5/20\n",
            "938/938 [==============================] - 4s 4ms/step - loss: 0.1753 - accuracy: 0.9354\n",
            "Epoch 6/20\n",
            "938/938 [==============================] - 4s 5ms/step - loss: 0.1531 - accuracy: 0.9433\n",
            "Epoch 7/20\n",
            "938/938 [==============================] - 4s 4ms/step - loss: 0.1323 - accuracy: 0.9499\n",
            "Epoch 8/20\n",
            "938/938 [==============================] - 4s 4ms/step - loss: 0.1141 - accuracy: 0.9561\n",
            "Epoch 9/20\n",
            "938/938 [==============================] - 4s 5ms/step - loss: 0.0965 - accuracy: 0.9632\n",
            "Epoch 10/20\n",
            "938/938 [==============================] - 4s 4ms/step - loss: 0.0818 - accuracy: 0.9687\n",
            "Epoch 11/20\n",
            "938/938 [==============================] - 5s 6ms/step - loss: 0.0709 - accuracy: 0.9724\n",
            "Epoch 12/20\n",
            "938/938 [==============================] - 4s 5ms/step - loss: 0.0616 - accuracy: 0.9769\n",
            "Epoch 13/20\n",
            "938/938 [==============================] - 4s 5ms/step - loss: 0.0529 - accuracy: 0.9799\n",
            "Epoch 14/20\n",
            "938/938 [==============================] - 4s 5ms/step - loss: 0.0485 - accuracy: 0.9819\n",
            "Epoch 15/20\n",
            "938/938 [==============================] - 4s 4ms/step - loss: 0.0439 - accuracy: 0.9831\n",
            "Epoch 16/20\n",
            "938/938 [==============================] - 4s 4ms/step - loss: 0.0391 - accuracy: 0.9863\n",
            "Epoch 17/20\n",
            "938/938 [==============================] - 4s 4ms/step - loss: 0.0360 - accuracy: 0.9866\n",
            "Epoch 18/20\n",
            "938/938 [==============================] - 4s 4ms/step - loss: 0.0342 - accuracy: 0.9878\n",
            "Epoch 19/20\n",
            "938/938 [==============================] - 4s 4ms/step - loss: 0.0323 - accuracy: 0.9884\n",
            "Epoch 20/20\n",
            "938/938 [==============================] - 4s 4ms/step - loss: 0.0288 - accuracy: 0.9895\n"
          ]
        }
      ],
      "source": [
        "from keras.backend import categorical_crossentropy\n",
        "\n",
        "from keras.datasets import fashion_mnist\n",
        "import pandas as pd\n",
        "from keras.models import Sequential,Model\n",
        "from keras.layers import Dense,Flatten,MaxPooling2D,Conv2D,Normalization,LeakyReLU\n",
        "\n",
        "from keras.optimizers import Adam\n",
        "(x_train,y_train),(x_test,y_test) = fashion_mnist.load_data()\n",
        "\n",
        "x_train= x_train.reshape(60000,28,28,1)\n",
        "x_test = x_test.reshape(10000,28,28,1)\n",
        "x_train = x_train.astype('float32')/255\n",
        "from keras.utils import to_categorical\n",
        "y_train = to_categorical(y_train,10)\n",
        "y_test=to_categorical(y_test,10)\n",
        "\n",
        "batch_size=64\n",
        "epochs=20\n",
        "classes=10\n",
        "\n",
        "model = Sequential()\n",
        "model.add(Conv2D(32,kernel_size= (3,3),activation='linear',input_shape=(28,28,1),padding='same'))\n",
        "model.add(LeakyReLU(alpha=0.1))\n",
        "model.add(MaxPooling2D((2,2),padding='same'))\n",
        "\n",
        "model.add(Conv2D(64,(3,3),activation='linear',padding='same'))\n",
        "model.add(LeakyReLU(alpha=0.1))\n",
        "model.add(MaxPooling2D((2,2),padding='same'))\n",
        "\n",
        "model.add(Conv2D(128,(3,3),activation='linear',padding='same'))\n",
        "model.add(LeakyReLU(alpha=0.1))\n",
        "model.add(MaxPooling2D((2,2),padding='same'))\n",
        "\n",
        "model.add(Flatten())\n",
        "model.add(Dense(128,activation='linear'))\n",
        "model.add(LeakyReLU(alpha=0.1))\n",
        "model.add(Dense(classes,activation='softmax'))\n",
        "model.summary()\n",
        "from keras.losses import categorical_crossentropy\n",
        "model.compile(loss='categorical_crossentropy',optimizer = Adam(),metrics=['accuracy'])\n",
        "train = model.fit(x_train,y_train,batch_size=batch_size,epochs=epochs,verbose=1)"
      ]
    },
    {
      "cell_type": "code",
      "source": [
        "model.save('model1.h5')"
      ],
      "metadata": {
        "id": "z9OmgIXCxc_w"
      },
      "execution_count": null,
      "outputs": []
    },
    {
      "cell_type": "code",
      "source": [
        "import matplotlib.pyplot as plt\n",
        "accuracy = train.history['accuracy']\n",
        "loss = train.history['loss']\n",
        "epochs=range(len(accuracy))\n",
        "plt.plot(epochs,accuracy,'bo',label='Training accuracy')\n",
        "plt.plot(epochs,loss,'b',label='Training loss')\n",
        "plt.legend()\n",
        "plt.show"
      ],
      "metadata": {
        "colab": {
          "base_uri": "https://localhost:8080/",
          "height": 448
        },
        "id": "6HDqF7ifvBx-",
        "outputId": "583dc2cd-566f-4bd8-913d-3e7ee911212c"
      },
      "execution_count": null,
      "outputs": [
        {
          "output_type": "execute_result",
          "data": {
            "text/plain": [
              "<function matplotlib.pyplot.show(close=None, block=None)>"
            ]
          },
          "metadata": {},
          "execution_count": 4
        },
        {
          "output_type": "display_data",
          "data": {
            "text/plain": [
              "<Figure size 640x480 with 1 Axes>"
            ],
            "image/png": "[encoded data removed]"
          },
          "metadata": {}
        }
      ]
    }
  ]
}